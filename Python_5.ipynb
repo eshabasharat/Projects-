{
 "cells": [
  {
   "cell_type": "code",
   "execution_count": 1,
   "id": "14c5dde0",
   "metadata": {},
   "outputs": [
    {
     "name": "stdout",
     "output_type": "stream",
     "text": [
      "Enter your weight in kilograms: 45\n",
      "Enter your height in meters: 1.54939\n",
      "Your BMI is: 18.75\n",
      "Your weight is normal. Keep up the good work!\n"
     ]
    }
   ],
   "source": [
    "try:\n",
    "    weight = float(input(\"Enter your weight in kilograms: \"))\n",
    "    height = float(input(\"Enter your height in meters: \"))\n",
    "\n",
    "    # Calculate BMI\n",
    "    bmi = weight / (height ** 2)\n",
    "\n",
    "    # Display BMI index\n",
    "    print(f\"Your BMI is: {bmi:.2f}\")\n",
    "\n",
    "    # Provide health advice based on BMI\n",
    "    if bmi < 18.5:\n",
    "        print(\"You are underweight. Consider consulting a healthcare professional.\")\n",
    "    elif 18.5 <= bmi < 24.9:\n",
    "        print(\"Your weight is normal. Keep up the good work!\")\n",
    "    elif 25 <= bmi < 29.9:\n",
    "        print(\"You are overweight. Consider adopting a healthier lifestyle.\")\n",
    "    else:\n",
    "        print(\"You are obese. Please consult a healthcare professional for guidance.\")\n",
    "\n",
    "except ValueError:\n",
    "    print(\"Invalid input. Please enter numeric values for weight and height.\")\n",
    "except ZeroDivisionError:\n",
    "    print(\"Error: Height cannot be zero. Please enter a valid height.\")"
   ]
  },
  {
   "cell_type": "code",
   "execution_count": 2,
   "id": "fd1c8438",
   "metadata": {},
   "outputs": [],
   "source": [
    "import pandas as pd "
   ]
  },
  {
   "cell_type": "code",
   "execution_count": 3,
   "id": "0c7e4855",
   "metadata": {},
   "outputs": [
    {
     "name": "stdout",
     "output_type": "stream",
     "text": [
      "   aspiration\n",
      "0  classified\n",
      "1  federation\n",
      "2  graduation\n",
      "3  millennium\n",
      "4  philosophy\n",
      "5  quadratics\n",
      "6  transcript\n",
      "7  wilderness\n",
      "8  zoologists\n"
     ]
    }
   ],
   "source": [
    "# Import CSV file \n",
    "df = pd.read_csv('Lab5_input.txt')\n",
    "\n",
    "# Display the DataFrame\n",
    "print(df)\n"
   ]
  },
  {
   "cell_type": "code",
   "execution_count": 5,
   "id": "432c70ad",
   "metadata": {},
   "outputs": [
    {
     "name": "stdout",
     "output_type": "stream",
     "text": [
      "Enter the name of the input file: Lab5_input.txt\n",
      "Enter the lower bound of the search range: a\n",
      "Enter the upper bound of the search range: s\n",
      "Words within the range [a, s]:\n",
      "aspiration\n",
      "classified\n",
      "federation\n",
      "graduation\n",
      "millennium\n",
      "philosophy\n",
      "quadratics\n"
     ]
    }
   ],
   "source": [
    "def search_words_in_range(file_name, lower_bound, upper_bound):\n",
    "    try:\n",
    "        # Open the file and read the words\n",
    "        with open(file_name, 'r') as file:\n",
    "            words = file.readlines()\n",
    "\n",
    "        # Remove newline characters from each word\n",
    "        words = [word.strip() for word in words]\n",
    "\n",
    "        # Filter words within the specified range\n",
    "        words_in_range = [word for word in words if lower_bound <= word <= upper_bound]\n",
    "\n",
    "        # Output the result\n",
    "        if words_in_range:\n",
    "            print(f\"Words within the range [{lower_bound}, {upper_bound}]:\")\n",
    "            for word in words_in_range:\n",
    "                print(word)\n",
    "        else:\n",
    "            print(f\"No words found within the range [{lower_bound}, {upper_bound}].\")\n",
    "\n",
    "    except FileNotFoundError:\n",
    "        print(f\"Error: File '{file_name}' not found.\")\n",
    "    except Exception as e:\n",
    "        print(f\"An error occurred: {e}\")\n",
    "\n",
    "# Get input from the user\n",
    "file_name = input(\"Enter the name of the input file: \")\n",
    "lower_bound = input(\"Enter the lower bound of the search range: \")\n",
    "upper_bound = input(\"Enter the upper bound of the search range: \")\n",
    "\n",
    "# Call the function to search and display words within the specified range\n",
    "search_words_in_range(file_name, lower_bound, upper_bound)\n"
   ]
  },
  {
   "cell_type": "code",
   "execution_count": 9,
   "id": "ca3ec3e8",
   "metadata": {},
   "outputs": [
    {
     "name": "stdout",
     "output_type": "stream",
     "text": [
      "Enter a phrase: As Soon As Possible \n",
      "The acronym is: ASAP\n"
     ]
    }
   ],
   "source": [
    "def generate_acronym(phrase):\n",
    "    words = phrase.split()\n",
    "    acronym = \"\"\n",
    "\n",
    "    for word in words:\n",
    "        # Include the first uppercase letter in the acronym\n",
    "        for char in word:\n",
    "            if char.isupper():\n",
    "                acronym += char\n",
    "                break\n",
    "\n",
    "    return acronym\n",
    "\n",
    "# Get input from the user\n",
    "input_phrase = input(\"Enter a phrase: \")\n",
    "\n",
    "# Call the function to generate and display the acronym\n",
    "acronym = generate_acronym(input_phrase)\n",
    "print(f\"The acronym is: {acronym}\")"
   ]
  },
  {
   "cell_type": "code",
   "execution_count": 8,
   "id": "53d7324d",
   "metadata": {},
   "outputs": [
    {
     "name": "stdout",
     "output_type": "stream",
     "text": [
      "Enter the first string: Hello \n",
      "Enter the second string: World!\n",
      "Characters that occur in both strings: {'l', 'o'}\n",
      "Characters that occur in one string but not the other: {'d', 'e', '!', 'r', 'W', 'H', ' '}\n"
     ]
    }
   ],
   "source": [
    "def compare_strings(string1, string2):\n",
    "    set1 = set(string1)\n",
    "    set2 = set(string2)\n",
    "\n",
    "    # Characters that occur in both strings\n",
    "    common_characters = set1.intersection(set2)\n",
    "\n",
    "    # Characters that occur in one string but not the other\n",
    "    unique_characters = set1.symmetric_difference(set2)\n",
    "\n",
    "    return common_characters, unique_characters\n",
    "\n",
    "# Get input from the user\n",
    "string1 = input(\"Enter the first string: \")\n",
    "string2 = input(\"Enter the second string: \")\n",
    "\n",
    "# Have the function to compare strings\n",
    "common_chars, unique_chars = compare_strings(string1, string2)\n",
    "\n",
    "# Print the results\n",
    "print(f\"Characters that occur in both strings: {common_chars}\")\n",
    "print(f\"Characters that occur in one string but not the other: {unique_chars}\")\n"
   ]
  },
  {
   "cell_type": "code",
   "execution_count": null,
   "id": "81d97b99",
   "metadata": {},
   "outputs": [],
   "source": []
  }
 ],
 "metadata": {
  "kernelspec": {
   "display_name": "Python 3 (ipykernel)",
   "language": "python",
   "name": "python3"
  },
  "language_info": {
   "codemirror_mode": {
    "name": "ipython",
    "version": 3
   },
   "file_extension": ".py",
   "mimetype": "text/x-python",
   "name": "python",
   "nbconvert_exporter": "python",
   "pygments_lexer": "ipython3",
   "version": "3.11.4"
  }
 },
 "nbformat": 4,
 "nbformat_minor": 5
}
