{
 "cells": [
  {
   "cell_type": "code",
   "execution_count": 7,
   "metadata": {},
   "outputs": [
    {
     "name": "stdout",
     "output_type": "stream",
     "text": [
      "esha\n"
     ]
    }
   ],
   "source": [
    "line = []  # The line of riders\n",
    "num_vips = 0  # Track the number of VIPs at the front of the line\n",
    "\n",
    "menu = (\n",
    "    \"(1) Reserve place in line. Add rider to line.\\n\"\n",
    "    \"(2) Reserve place in VIP line. Add VIP.\\n\"\n",
    "    \"(3) Dispatch riders. Dispatch next ride car.\\n\"\n",
    "    \"(4) Print riders waiting in line.\\n\"\n",
    "    \"(5) Exit.\\n\\n\"\n",
    ")\n",
    "\n",
    "user_input = input(menu).strip()\n",
    "\n",
    "while user_input != '5':\n",
    "    if user_input == '1':  # Add rider\n",
    "        name = input('Enter name: ').strip()\n",
    "        print(name)\n",
    "        line.append(name)\n",
    "\n",
    "    elif user_input == '2':  # Add VIP\n",
    "        name = input('Enter name: ').strip()\n",
    "        print(name)\n",
    "        line.append(name)\n",
    "        num_vips = num_vips + 1\n",
    "\n",
    "    elif user_input == '3':  # Dispatch riders\n",
    "        per_ride = int(input('Enter the number of riders to dispatch: '))\n",
    "        if per_ride > num_vips:\n",
    "            # If there are more riders to dispatch than VIPs, remove all riders\n",
    "            del line[:num_vips]\n",
    "            num_vips = 0\n",
    "        else:\n",
    "            # Remove per_ride riders (VIPs and common riders)\n",
    "            del line[:per_ride]\n",
    "            num_vips -= per_ride\n",
    "\n",
    "    elif user_input == '4':  # Print riders\n",
    "        print(\"Riders waiting in line:\")\n",
    "        for rider in line:\n",
    "            print(rider)\n",
    "\n",
    "    user_input = input(menu).strip()  # Get the next user input\n"
   ]
  },
  {
   "cell_type": "code",
   "execution_count": 1,
   "metadata": {},
   "outputs": [
    {
     "name": "stdout",
     "output_type": "stream",
     "text": [
      "8 added to the list.\n",
      "Current list of unique numbers: [8]\n",
      "9 added to the list.\n",
      "Current list of unique numbers: [8, 9]\n",
      "5 added to the list.\n",
      "Current list of unique numbers: [8, 9, 5]\n",
      "3 added to the list.\n",
      "Current list of unique numbers: [8, 9, 5, 3]\n",
      "2 added to the list.\n",
      "Current list of unique numbers: [8, 9, 5, 3, 2]\n",
      "1 added to the list.\n",
      "Current list of unique numbers: [8, 9, 5, 3, 2, 1]\n",
      "4 added to the list.\n",
      "Current list of unique numbers: [8, 9, 5, 3, 2, 1, 4]\n",
      "6 added to the list.\n",
      "Current list of unique numbers: [8, 9, 5, 3, 2, 1, 4, 6]\n",
      "7 added to the list.\n",
      "Current list of unique numbers: [8, 9, 5, 3, 2, 1, 4, 6, 7]\n",
      "9 is already in the list. Try again.\n",
      "Current list of unique numbers: [8, 9, 5, 3, 2, 1, 4, 6, 7]\n",
      "10 added to the list.\n",
      "Current list of unique numbers: [8, 9, 5, 3, 2, 1, 4, 6, 7, 10]\n",
      "Unique numbers in the list:  [8, 9, 5, 3, 2, 1, 4, 6, 7, 10]\n"
     ]
    }
   ],
   "source": [
    "unique_numbers = []\n",
    "\n",
    "while len(unique_numbers) < 10:\n",
    "    try:\n",
    "        num = int(input(\"Enter a number: \"))\n",
    "        \n",
    "        # Check if the number is not already in the list\n",
    "        if num not in unique_numbers:\n",
    "            unique_numbers.append(num)\n",
    "            print(f\"{num} added to the list.\")\n",
    "        else:\n",
    "            print(f\"{num} is already in the list. Try again.\")\n",
    "\n",
    "        print(\"Current list of unique numbers:\", unique_numbers)\n",
    "\n",
    "    except ValueError:\n",
    "        print(\"Invalid input. Please enter a valid number.\")\n",
    "\n",
    "# Program will exit the loop after 10 unique numbers\n",
    "print(\"Unique numbers in the list: \", unique_numbers)\n"
   ]
  },
  {
   "cell_type": "code",
   "execution_count": 2,
   "metadata": {},
   "outputs": [
    {
     "name": "stdout",
     "output_type": "stream",
     "text": [
      "Frequency of each die value:\n",
      "Value 7: 1 times\n",
      "Value 8: 1 times\n",
      "Value 6: 2 times\n",
      "Value 3: 1 times\n",
      "Value 2: 1 times\n",
      "Value 1: 1 times\n",
      "Value 4: 1 times\n",
      "Value 5: 1 times\n"
     ]
    }
   ],
   "source": [
    "# create a dictionary to store the frequency of each die value\n",
    "die_frequency = {}\n",
    "\n",
    "while True:\n",
    "    user_input = input(\"Enter the result of a 12-sided die toss (1-12) or 'q' to quit: \")\n",
    "    #check if the user wants to quit the porgram\n",
    "    if user_input.lower() == 'q': \n",
    "        break\n",
    "    \n",
    "    try:\n",
    "        die_value = int(user_input) #convert the user-input into an integer \n",
    "        if 1 <= die_value <= 12: #checking if the die value is within the 1-12 range \n",
    "            if die_value in die_frequency:\n",
    "                die_frequency[die_value] += 1\n",
    "            else:\n",
    "                die_frequency[die_value] = 1  #if its not in the dictioney add it with a count of 1\n",
    "    except ValueError:\n",
    "        print(\"Invalid input. Please enter a valid number (1-12) or 'q' to quit.\")\n",
    "\n",
    "print(\"Frequency of each die value:\")\n",
    "for value, frequency in die_frequency.items():\n",
    "    print(f\"Value {value}: {frequency} times\")"
   ]
  },
  {
   "cell_type": "code",
   "execution_count": 3,
   "metadata": {},
   "outputs": [
    {
     "name": "stdout",
     "output_type": "stream",
     "text": [
      "[11, 7, 1, 3, 9, 13, 21, 4]\n"
     ]
    }
   ],
   "source": [
    "def switch_list_halves(input_list):\n",
    "    #check if the list size is even \n",
    "    if len(input_list) % 2 == 0:\n",
    "        #calculate the half length of the list \n",
    "        half_length = len(input_list) // 2\n",
    "        switched_list = input_list[half_length:] + input_list[:half_length]\n",
    "        return switched_list\n",
    "    else:\n",
    "        return \"The list size is not even.\"\n",
    "\n",
    "# Example of list:\n",
    "my_list = [9, 13, 21, 4, 11, 7, 1, 3]\n",
    "result = switch_list_halves(my_list)\n",
    "print(result)\n"
   ]
  },
  {
   "cell_type": "code",
   "execution_count": 6,
   "metadata": {},
   "outputs": [
    {
     "name": "stdout",
     "output_type": "stream",
     "text": [
      "Integers within the specified range: [7, 8, 9, 3]\n"
     ]
    }
   ],
   "source": [
    "# Get a list of integers from input\n",
    "input_list = input(\"Enter a list of integers separated by spaces: \").split()\n",
    "input_list = [int(x) for x in input_list]\n",
    "\n",
    "# Get lower and upper bounds from input\n",
    "lower_bound = int(input(\"Enter the lower bound: \"))\n",
    "upper_bound = int(input(\"Enter the upper bound: \"))\n",
    "\n",
    "# Filter and output integers within the specified range\n",
    "within_range = [x for x in input_list if lower_bound <= x <= upper_bound]\n",
    "\n",
    "print(\"Integers within the specified range:\", within_range)\n"
   ]
  }
 ],
 "metadata": {
  "kernelspec": {
   "display_name": "base",
   "language": "python",
   "name": "python3"
  },
  "language_info": {
   "codemirror_mode": {
    "name": "ipython",
    "version": 3
   },
   "file_extension": ".py",
   "mimetype": "text/x-python",
   "name": "python",
   "nbconvert_exporter": "python",
   "pygments_lexer": "ipython3",
   "version": "3.11.4"
  },
  "orig_nbformat": 4
 },
 "nbformat": 4,
 "nbformat_minor": 2
}
