{
 "cells": [
  {
   "cell_type": "code",
   "execution_count": 1,
   "metadata": {},
   "outputs": [
    {
     "name": "stdout",
     "output_type": "stream",
     "text": [
      "The sum of odd numbers between 2 and 100 is: 2499\n"
     ]
    }
   ],
   "source": [
    "# Input the values of 'a' and 'b' from the user\n",
    "a = int(input(\"Enter the value of 'a': \"))\n",
    "b = int(input(\"Enter the value of 'b': \"))\n",
    "\n",
    "# create a variable to store the sum of odd numbers\n",
    "odd_numbers = 0\n",
    "\n",
    "# Loop through the numbers from 'a' to 'b'2\n",
    "for number in range(a, b + 1):\n",
    "    # Check if the number is odd\n",
    "    if number % 2 == 1:\n",
    "        # Add the odd number to the sum\n",
    "        odd_numbers += number\n",
    "\n",
    "# Print the sum of odd numbers\n",
    "print(\"The sum of odd numbers between\", a, \"and\", b, \"is:\", odd_numbers)"
   ]
  },
  {
   "cell_type": "code",
   "execution_count": 7,
   "metadata": {},
   "outputs": [
    {
     "name": "stdout",
     "output_type": "stream",
     "text": [
      "new string: H_ st__d _n th_ r__d _nd cr__d.\n"
     ]
    }
   ],
   "source": [
    "# create a string\n",
    "input_string = input(\"Enter a string: \")\n",
    "\n",
    "# Define a string containing all vowels\n",
    "vowels = \"AEIOUaeiou\"\n",
    "\n",
    "# create an empty string to store the new string\n",
    "new_string = \"\"\n",
    "\n",
    "# Repeat through each character in the input string\n",
    "for char in input_string:\n",
    "    # Check if the character is a vowel\n",
    "    if char in vowels:\n",
    "        # If it's a vowel, add an underscore to the new string\n",
    "        new_string += \"_\"\n",
    "    else:\n",
    "        # If it's not a vowel, add the character\n",
    "        new_string += char\n",
    "\n",
    "# Print the new string\n",
    "print(\"new string:\", new_string)"
   ]
  },
  {
   "cell_type": "code",
   "execution_count": 3,
   "metadata": {},
   "outputs": [
    {
     "name": "stdout",
     "output_type": "stream",
     "text": [
      "With an initial balance of $3500.00, the investment can be tripled after 32 years at a rate of 3.50 %.\n"
     ]
    }
   ],
   "source": [
    "# Input the initial balance and rate from the user\n",
    "while True:\n",
    "    initial_balance = float(input(\"Enter the initial balance (positive): \"))\n",
    "    if initial_balance > 0:\n",
    "        break\n",
    "    else:\n",
    "        print(\"Sorry, I didn't understand that. The balance should be positive.\")\n",
    "\n",
    "while True:\n",
    "    rate = float(input(\"Enter the rate (positive): \"))\n",
    "    if rate > 0:\n",
    "        break\n",
    "    else:\n",
    "        print(\"Sorry,I  didn't understand that. The rate should be positive.\")\n",
    "\n",
    "# Create a variable to keep track of the current balance\n",
    "current_balance = initial_balance\n",
    "\n",
    "# Create a variable to keep track of the number of years\n",
    "years = 0\n",
    "\n",
    "# Calculate the target balance (triple the initial balance)\n",
    "target_balance = initial_balance * 3\n",
    "\n",
    "# Use a loop to calculate the number of years required\n",
    "while current_balance < target_balance:\n",
    "    current_balance += current_balance * (rate / 100)  # Apply the rate\n",
    "    years += 1\n",
    "\n",
    "# Print the result\n",
    "print(f\"With an initial balance of ${initial_balance:.2f}, the investment can be tripled after {years} years at a rate of {rate:.2f} %.\")\n"
   ]
  },
  {
   "cell_type": "code",
   "execution_count": 4,
   "metadata": {},
   "outputs": [
    {
     "name": "stdout",
     "output_type": "stream",
     "text": [
      "Error! Enter an integer other than 1.\n"
     ]
    }
   ],
   "source": [
    "# Input an integer from the user\n",
    "num = int(input(\"Enter an integer: \"))\n",
    "\n",
    "# Check if the input is 0 or 1\n",
    "if num == 0 or num == 1:\n",
    "    print(\"Error! Enter an integer other than 1.\")\n",
    "else:\n",
    "    # create a list to store factors\n",
    "    factors = [] \n",
    "\n",
    "    # Find and store the factors of the input integer\n",
    "    for i in range(2, num + 1):\n",
    "        while num % i == 0:\n",
    "            factors.append(i)\n",
    "            num //= i\n",
    "\n",
    "    # Print the factors\n",
    "    if factors:\n",
    "        print(\"Factors of the integer are:\", factors)\n",
    "    else:\n",
    "        print(\"The integer is prime and has no factors other than 1 and itself.\")\n"
   ]
  },
  {
   "cell_type": "code",
   "execution_count": 6,
   "metadata": {},
   "outputs": [
    {
     "name": "stdout",
     "output_type": "stream",
     "text": [
      "Number of passing grades: 2\n",
      "Number of failing grades: 0\n"
     ]
    }
   ],
   "source": [
    "# create counter variables\n",
    "numPassing = 0\n",
    "numFailing = 0\n",
    "\n",
    "# Get the first grade from the user\n",
    "grade = float(input(\"Enter a grade or -1 to finish: \"))\n",
    "\n",
    "# Use a while loop to obtain grades\n",
    "while grade != -1:\n",
    "    if grade >= 50:\n",
    "        numPassing += 1\n",
    "    else:\n",
    "        numFailing += 1\n",
    "\n",
    "    # Get the next grade from the user\n",
    "    grade = float(input(\"Enter a grade or -1 to finish: \"))\n",
    "\n",
    "# Print the results\n",
    "print(\"Number of passing grades:\", numPassing)\n",
    "print(\"Number of failing grades:\", numFailing)\n"
   ]
  }
 ],
 "metadata": {
  "kernelspec": {
   "display_name": "base",
   "language": "python",
   "name": "python3"
  },
  "language_info": {
   "codemirror_mode": {
    "name": "ipython",
    "version": 3
   },
   "file_extension": ".py",
   "mimetype": "text/x-python",
   "name": "python",
   "nbconvert_exporter": "python",
   "pygments_lexer": "ipython3",
   "version": "3.11.4"
  },
  "orig_nbformat": 4
 },
 "nbformat": 4,
 "nbformat_minor": 2
}
