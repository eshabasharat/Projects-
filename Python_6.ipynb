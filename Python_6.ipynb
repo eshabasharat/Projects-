{
  "cells": [
    {
      "cell_type": "code",
      "execution_count": 3,
      "metadata": {
        "colab": {
          "base_uri": "https://localhost:8080/"
        },
        "id": "-GwXSvw-Wn6F",
        "outputId": "2d9048bc-d325-4eaf-da29-9715fa25b2cf"
      },
      "outputs": [
        {
          "name": "stdout",
          "output_type": "stream",
          "text": [
            "Patient data (before): 0 in, 0 lbs\n",
            "63 115\n",
            "Patient data (after): 63 in, 115 lbs\n"
          ]
        }
      ],
      "source": [
        "class PatientData:\n",
        "    def __init__(self):\n",
        "        self.height_inches = 0\n",
        "        self.weight_pounds = 0\n",
        "\n",
        "    def display_data_before(self):\n",
        "        print(f'Patient data (before): {self.height_inches} in, {self.weight_pounds} lbs')\n",
        "\n",
        "    def set_data(self, height, weight):\n",
        "        self.height_inches = height\n",
        "        self.weight_pounds = weight\n",
        "\n",
        "    def display_data_after(self):\n",
        "        print(f'Patient data (after): {self.height_inches} in, {self.weight_pounds} lbs')\n",
        "\n",
        "# Sample example using patient data before\n",
        "patient = PatientData()\n",
        "patient.display_data_before()\n",
        "\n",
        "# Taking inputs\n",
        "height_input, weight_input = map(int, input().split())\n",
        "\n",
        "# Setting data\n",
        "patient.set_data(height_input, weight_input)\n",
        "patient.display_data_after()"
      ]
    },
    {
      "cell_type": "code",
      "execution_count": 4,
      "metadata": {
        "colab": {
          "base_uri": "https://localhost:8080/"
        },
        "id": "7M66QTvcXPMw",
        "outputId": "a4a9f3bc-de67-4dd6-de6b-989ee8580acf"
      },
      "outputs": [
        {
          "name": "stdout",
          "output_type": "stream",
          "text": [
            "ID: 314\n",
            "Qty: 500\n"
          ]
        }
      ],
      "source": [
        "class InventoryTag:\n",
        "    def __init__(self, tag_id, quantity):\n",
        "        self.tag_id = tag_id\n",
        "        self.quantity = quantity\n",
        "\n",
        "# Sample example\n",
        "red_sweater = InventoryTag(314, 500)\n",
        "\n",
        "# Printing attributes\n",
        "print(f'ID: {red_sweater.tag_id}')\n",
        "print(f'Qty: {red_sweater.quantity}')\n"
      ]
    },
    {
      "cell_type": "code",
      "execution_count": 5,
      "metadata": {
        "colab": {
          "base_uri": "https://localhost:8080/"
        },
        "id": "9Vy_VpdGbLva",
        "outputId": "a6031fad-5b25-4565-d6e1-52ab1f4f733b"
      },
      "outputs": [
        {
          "name": "stdout",
          "output_type": "stream",
          "text": [
            "2011\n",
            "18000\n",
            "2018\n",
            "Car's information:\n",
            "Model year: 2011\n",
            "Purchase price: 18000\n",
            "Current value: 5770\n"
          ]
        }
      ],
      "source": [
        "class Car:\n",
        "    def __init__(self):\n",
        "        self.model_year = 0\n",
        "        self.purchase_price = 0  # Added purchase_price attribute\n",
        "\n",
        "    def calc_current_value(self, current_year):\n",
        "        depreciation_rate = 0.15\n",
        "        car_age = current_year - self.model_year\n",
        "        self.current_value = round(self.purchase_price * (1 - depreciation_rate) ** car_age)\n",
        "\n",
        "    def print_info(self):\n",
        "        print(\"Car's information:\")\n",
        "        print(f\"Model year: {self.model_year}\")\n",
        "        print(f\"Purchase price: {self.purchase_price}\")\n",
        "        print(f\"Current value: {self.current_value}\")\n",
        "\n",
        "# Sample example\n",
        "car = Car()\n",
        "\n",
        "# Input values (model year, purchase price, current year)\n",
        "model_year_input = int(input())\n",
        "purchase_price_input = int(input())\n",
        "current_year_input = int(input())\n",
        "\n",
        "# Setting values and calculating current value\n",
        "car.model_year = model_year_input\n",
        "car.purchase_price = purchase_price_input\n",
        "car.calc_current_value(current_year_input)\n",
        "\n",
        "# Printing car information\n",
        "car.print_info()\n"
      ]
    },
    {
      "cell_type": "code",
      "execution_count": 6,
      "metadata": {
        "colab": {
          "base_uri": "https://localhost:8080/"
        },
        "id": "FuEBdWYliMYX",
        "outputId": "7088064a-5292-48eb-9534-5ad3740d2721"
      },
      "outputs": [
        {
          "name": "stdout",
          "output_type": "stream",
          "text": [
            "123 Main St\n",
            "Apartment 456\n",
            "Cityville, Provinceville A1B 2C3\n",
            "\n",
            "456 Broad St\n",
            "Townsville, Territoryville X0Y 1Z2\n"
          ]
        }
      ],
      "source": [
        "class Address:\n",
        "    def __init__(self, house_number, street, city, province, postal_code, apartment_number=None):\n",
        "        self.house_number = house_number\n",
        "        self.street = street\n",
        "        self.apartment_number = apartment_number\n",
        "        self.city = city\n",
        "        self.province = province\n",
        "        self.postal_code = postal_code\n",
        "\n",
        "    def print_address(self):\n",
        "        print(f\"{self.house_number} {self.street}\")\n",
        "        if self.apartment_number is not None:\n",
        "            print(f\"Apartment {self.apartment_number}\")\n",
        "        print(f\"{self.city}, {self.province} {self.postal_code}\")\n",
        "\n",
        "# Sample example\n",
        "address_with_apartment = Address(123, \"Main St\", \"Cityville\", \"Provinceville\", \"A1B 2C3\", 456)\n",
        "address_without_apartment = Address(456, \"Broad St\", \"Townsville\", \"Territoryville\", \"X0Y 1Z2\")\n",
        "\n",
        "# Printing addresses\n",
        "address_with_apartment.print_address()\n",
        "print()\n",
        "address_without_apartment.print_address()\n"
      ]
    },
    {
      "cell_type": "code",
      "execution_count": 12,
      "metadata": {
        "colab": {
          "base_uri": "https://localhost:8080/"
        },
        "id": "yb52uFiciuW9",
        "outputId": "4cbbb5b6-09b0-4731-c159-434eae6e2fe9"
      },
      "outputs": [
        {
          "name": "stdout",
          "output_type": "stream",
          "text": [
            "Enter the address (house number, street, city, province, postal code): 11762, 106 St, Edmonton, Alberta, T5G 2R1\n",
            "Address a is:\n",
            "11762 106 St\n",
            "Edmonton, Alberta T5G  2R1\n"
          ]
        }
      ],
      "source": [
        "class Address:\n",
        "    def __init__(self, house_number, street, city, province, postal_code):\n",
        "        self.house_number = house_number\n",
        "        self.street = street\n",
        "        self.city = city\n",
        "        self.province = province\n",
        "        self.postal_code = postal_code\n",
        "\n",
        "    def print_address(self):\n",
        "        print(f\"Address a is:\")\n",
        "        print(f\"{self.house_number} {self.street}\")\n",
        "        print(f\"{self.city}, {self.province} {self.postal_code[:3]} {self.postal_code[3:]}\")\n",
        "\n",
        "# Taking input\n",
        "input_address = input(\"Enter the address (house number, street, city, province, postal code): \").split(\", \")\n",
        "address_a = Address(*input_address)\n",
        "\n",
        "# Printing address\n",
        "address_a.print_address()\n",
        "\n",
        "\n"
      ]
    },
    {
      "cell_type": "code",
      "execution_count": 1,
      "metadata": {
        "colab": {
          "base_uri": "https://localhost:8080/"
        },
        "id": "ygBWYskAFBEy",
        "outputId": "34da732b-8fdc-4557-b6b7-1df9a1151a7d"
      },
      "outputs": [
        {
          "name": "stdout",
          "output_type": "stream",
          "text": [
            "Enter base for triangle1: 3\n",
            "Enter height for triangle1: 4\n",
            "Enter base for triangle2: 4\n",
            "Enter height for triangle2: 5\n",
            "Triangle with larger area:\n",
            "Base: 4.00\n",
            "Height: 5.00\n",
            "Area: 10.00\n"
          ]
        }
      ],
      "source": [
        "class Triangle:\n",
        "    def __init__(self):\n",
        "        self.base = 0\n",
        "        self.height = 0  # Fixed initialization\n",
        "\n",
        "    def set_base(self, user_base):\n",
        "        self.base = user_base\n",
        "\n",
        "    def set_height(self, user_height):\n",
        "        self.height = user_height\n",
        "\n",
        "    def get_area(self):\n",
        "        area = 0.5 * self.base * self.height\n",
        "        return area\n",
        "\n",
        "    def print_info(self):\n",
        "        print(f'Base: {self.base:.2f}')\n",
        "        print(f'Height: {self.height:.2f}')\n",
        "        print(f'Area: {self.get_area():.2f}')\n",
        "\n",
        "# Creating Triangle objects\n",
        "triangle1 = Triangle()\n",
        "triangle2 = Triangle()\n",
        "\n",
        "# Reading and setting base and height for triangle1\n",
        "triangle1.set_base(float(input(\"Enter base for triangle1: \")))\n",
        "triangle1.set_height(float(input(\"Enter height for triangle1: \")))\n",
        "\n",
        "# Reading and setting base and height for triangle2\n",
        "triangle2.set_base(float(input(\"Enter base for triangle2: \")))\n",
        "triangle2.set_height(float(input(\"Enter height for triangle2: \")))\n",
        "\n",
        "# Determining the larger triangle\n",
        "larger_triangle = triangle1 if triangle1.get_area() > triangle2.get_area() else triangle2\n",
        "\n",
        "# Printing the larger triangle's info\n",
        "print('Triangle with larger area:')\n",
        "larger_triangle.print_info()\n"
      ]
    }
  ],
  "metadata": {
    "colab": {
      "provenance": []
    },
    "kernelspec": {
      "display_name": "Python 3",
      "name": "python3"
    },
    "language_info": {
      "name": "python"
    }
  },
  "nbformat": 4,
  "nbformat_minor": 0
}
